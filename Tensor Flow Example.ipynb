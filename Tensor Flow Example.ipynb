{
 "cells": [
  {
   "cell_type": "code",
   "execution_count": 2,
   "metadata": {},
   "outputs": [],
   "source": [
    "# This serves as a tutorial for how to use tensor_flow for regression"
   ]
  },
  {
   "cell_type": "code",
   "execution_count": 3,
   "metadata": {},
   "outputs": [],
   "source": [
    "# imports\n",
    "import numpy as np\n",
    "import pandas as pd\n",
    "import tensorflow as tf\n",
    "from sklearn.metrics import mean_squared_error, r2_score"
   ]
  },
  {
   "cell_type": "code",
   "execution_count": 4,
   "metadata": {},
   "outputs": [],
   "source": [
    "from sklearn.datasets import load_boston\n",
    "boston = load_boston()\n",
    "# seperate x and y\n",
    "x = boston.data[:,5][:,None]\n",
    "y = np.reshape(boston.target, (-1, 1))"
   ]
  },
  {
   "cell_type": "code",
   "execution_count": 5,
   "metadata": {},
   "outputs": [
    {
     "name": "stdout",
     "output_type": "stream",
     "text": [
      "WARNING:tensorflow:From C:\\Users\\hknighton\\AppData\\Local\\Continuum\\anaconda3\\lib\\site-packages\\tensorflow\\python\\framework\\op_def_library.py:263: colocate_with (from tensorflow.python.framework.ops) is deprecated and will be removed in a future version.\n",
      "Instructions for updating:\n",
      "Colocations handled automatically by placer.\n"
     ]
    }
   ],
   "source": [
    "X = tf.placeholder(shape=[None,1],dtype =tf.float32,name=\"X\")\n",
    "Y = tf.placeholder(shape=[None,1], dtype=tf.float32,name=\"Y\")\n",
    "A = tf.Variable(tf.random_normal(shape=[1,1]),name=\"A\")\n",
    "b = tf.Variable(tf.random_normal(shape=[1,1]),name = \"b\")\n",
    "batch_size = 100\n",
    "n_epochs = 50000\n",
    "steps = 1000"
   ]
  },
  {
   "cell_type": "code",
   "execution_count": 6,
   "metadata": {},
   "outputs": [],
   "source": [
    "#Create the model and loss function\n",
    "model_output = tf.matmul(X,A) + b\n",
    "loss = tf.reduce_mean(tf.square(Y- model_output))\n",
    "\n",
    "#minimize the loss function \n",
    "grad_speed = 5e-7\n",
    "my_opt = tf.train.GradientDescentOptimizer(grad_speed)\n",
    "train_step = my_opt.minimize(loss)"
   ]
  },
  {
   "cell_type": "code",
   "execution_count": 7,
   "metadata": {},
   "outputs": [
    {
     "name": "stdout",
     "output_type": "stream",
     "text": [
      "Epoch #0 A = [[1.0071898]] b =[[-0.971296]]\n",
      "Loss = 370.84176636\n",
      "\n",
      "Epoch #1000 A = [[1.603055]] b =[[-0.8801917]]\n",
      "Loss = 249.22018433\n",
      "\n",
      "Epoch #2000 A = [[2.0691397]] b =[[-0.8094468]]\n",
      "Loss = 174.85444641\n",
      "\n",
      "Epoch #3000 A = [[2.4329054]] b =[[-0.7547708]]\n",
      "Loss = 129.47729492\n",
      "\n",
      "Epoch #4000 A = [[2.7162933]] b =[[-0.7127168]]\n",
      "Loss = 101.81783295\n",
      "\n",
      "Epoch #5000 A = [[2.9394357]] b =[[-0.6801375]]\n",
      "Loss = 84.77682495\n",
      "\n",
      "Epoch #6000 A = [[3.1149807]] b =[[-0.6550781]]\n",
      "Loss = 74.30355072\n",
      "\n",
      "Epoch #7000 A = [[3.251165]] b =[[-0.63619864]]\n",
      "Loss = 67.95635986\n",
      "\n",
      "Epoch #8000 A = [[3.3575013]] b =[[-0.6220078]]\n",
      "Loss = 64.07926178\n",
      "\n",
      "Epoch #9000 A = [[3.4405277]] b =[[-0.6114359]]\n",
      "Loss = 61.70898056\n",
      "\n",
      "Epoch #10000 A = [[3.5063205]] b =[[-0.60360575]]\n",
      "Loss = 60.23927689\n",
      "\n",
      "Epoch #11000 A = [[3.5581934]] b =[[-0.5979904]]\n",
      "Loss = 59.33466339\n",
      "\n",
      "Epoch #12000 A = [[3.5990605]] b =[[-0.5940811]]\n",
      "Loss = 58.77928162\n",
      "\n",
      "Epoch #13000 A = [[3.6302054]] b =[[-0.5917068]]\n",
      "Loss = 58.44879532\n",
      "\n",
      "Epoch #14000 A = [[3.6548185]] b =[[-0.5903488]]\n",
      "Loss = 58.24399185\n",
      "\n",
      "Epoch #15000 A = [[3.6751635]] b =[[-0.5896845]]\n",
      "Loss = 58.11193466\n",
      "\n",
      "Epoch #16000 A = [[3.690488]] b =[[-0.5897892]]\n",
      "Loss = 58.03445435\n",
      "\n",
      "Epoch #17000 A = [[3.702338]] b =[[-0.5904538]]\n",
      "Loss = 57.98723221\n",
      "\n",
      "Epoch #18000 A = [[3.7126763]] b =[[-0.591361]]\n",
      "Loss = 57.95490265\n",
      "\n",
      "Epoch #19000 A = [[3.7200537]] b =[[-0.59271306]]\n",
      "Loss = 57.93656540\n",
      "\n",
      "Epoch #20000 A = [[3.725962]] b =[[-0.59430784]]\n",
      "Loss = 57.92453384\n",
      "\n",
      "Epoch #21000 A = [[3.730953]] b =[[-0.5960489]]\n",
      "Loss = 57.91611862\n",
      "\n",
      "Epoch #22000 A = [[3.7343557]] b =[[-0.59804857]]\n",
      "Loss = 57.91085434\n",
      "\n",
      "Epoch #23000 A = [[3.7372878]] b =[[-0.60009515]]\n",
      "Loss = 57.90667725\n",
      "\n",
      "Epoch #24000 A = [[3.7393699]] b =[[-0.6022802]]\n",
      "Loss = 57.90354156\n",
      "\n",
      "Epoch #25000 A = [[3.7404506]] b =[[-0.6046079]]\n",
      "Loss = 57.90111160\n",
      "\n",
      "Epoch #26000 A = [[3.741635]] b =[[-0.60691845]]\n",
      "Loss = 57.89868546\n",
      "\n",
      "Epoch #27000 A = [[3.742111]] b =[[-0.6093731]]\n",
      "Loss = 57.89656448\n",
      "\n",
      "Epoch #28000 A = [[3.7438388]] b =[[-0.6116081]]\n",
      "Loss = 57.89398956\n",
      "\n",
      "Epoch #29000 A = [[3.7456028]] b =[[-0.6138646]]\n",
      "Loss = 57.89154816\n",
      "\n",
      "Epoch #30000 A = [[3.7465599]] b =[[-0.6162319]]\n",
      "Loss = 57.88938522\n",
      "\n",
      "Epoch #31000 A = [[3.7484336]] b =[[-0.6184563]]\n",
      "Loss = 57.88715744\n",
      "\n",
      "Epoch #32000 A = [[3.748515]] b =[[-0.6209653]]\n",
      "Loss = 57.88510513\n",
      "\n",
      "Epoch #33000 A = [[3.7493443]] b =[[-0.6233554]]\n",
      "Loss = 57.88302994\n",
      "\n",
      "Epoch #34000 A = [[3.7491727]] b =[[-0.62591124]]\n",
      "Loss = 57.88098526\n",
      "\n",
      "Epoch #35000 A = [[3.7493672]] b =[[-0.6283968]]\n",
      "Loss = 57.87894058\n",
      "\n",
      "Epoch #36000 A = [[3.7497852]] b =[[-0.6308586]]\n",
      "Loss = 57.87687302\n",
      "\n",
      "Epoch #37000 A = [[3.7500641]] b =[[-0.6333231]]\n",
      "Loss = 57.87481689\n",
      "\n",
      "Epoch #38000 A = [[3.7512064]] b =[[-0.63566613]]\n",
      "Loss = 57.87271118\n",
      "\n",
      "Epoch #39000 A = [[3.751462]] b =[[-0.6381346]]\n",
      "Loss = 57.87066269\n",
      "\n",
      "Epoch #40000 A = [[3.7515957]] b =[[-0.6406411]]\n",
      "Loss = 57.86860657\n",
      "\n",
      "Epoch #41000 A = [[3.751713]] b =[[-0.6431493]]\n",
      "Loss = 57.86656189\n",
      "\n",
      "Epoch #42000 A = [[3.7521756]] b =[[-0.6455855]]\n",
      "Loss = 57.86450195\n",
      "\n",
      "Epoch #43000 A = [[3.7536452]] b =[[-0.64787006]]\n",
      "Loss = 57.86240387\n",
      "\n",
      "Epoch #44000 A = [[3.7536829]] b =[[-0.6503796]]\n",
      "Loss = 57.86034775\n",
      "\n",
      "Epoch #45000 A = [[3.7527792]] b =[[-0.6530417]]\n",
      "Loss = 57.85838318\n",
      "\n",
      "Epoch #46000 A = [[3.7531822]] b =[[-0.65552276]]\n",
      "Loss = 57.85630798\n",
      "\n",
      "Epoch #47000 A = [[3.7540305]] b =[[-0.6579073]]\n",
      "Loss = 57.85419464\n",
      "\n",
      "Epoch #48000 A = [[3.7543492]] b =[[-0.6603621]]\n",
      "Loss = 57.85216141\n",
      "\n",
      "Epoch #49000 A = [[3.7548563]] b =[[-0.6628079]]\n",
      "Loss = 57.85007095\n",
      "\n",
      "Mean Squared Error (on training data): 57.84796663333114\n",
      "RMSE ( on training data): 7.605785\n",
      "R2 ( on training data): 0.31\n"
     ]
    }
   ],
   "source": [
    "# train the model\n",
    "loss_vec =[]\n",
    "with tf.Session() as sess:\n",
    "    sess.run(tf.global_variables_initializer())\n",
    "    for epoch in range(n_epochs):\n",
    "        permut = np.random.permutation(len(x))\n",
    "        for j in range(0,len(x),batch_size):\n",
    "            batch = permut[j:j+batch_size]\n",
    "            Xs= x[batch]\n",
    "            Ys = y[batch]\n",
    "            \n",
    "            sess.run(train_step, feed_dict={X: Xs, Y: Ys})\n",
    "        temp_loss = sess.run(loss, feed_dict={X: x, Y:y})\n",
    "        loss_vec.append(temp_loss)\n",
    "        if epoch % steps ==0:\n",
    "            (A_,b_) = sess.run([A,b])\n",
    "            print('Epoch #%i A = %s b =%s' % (epoch, np.transpose(A_),b_))\n",
    "            print('Loss = %.8f' % temp_loss)\n",
    "            print(\"\")\n",
    "    [slope, y_intercept] = sess.run([A, b])\n",
    "    prediction = sess.run(model_output,feed_dict={X:x})\n",
    "    mse = mean_squared_error(y,prediction)\n",
    "    print(\"Mean Squared Error (on training data): {:3}\".format(mse))\n",
    "    rmse = np.sqrt(mse)\n",
    "    print(\"RMSE ( on training data): %f\" % rmse)\n",
    "    r2 = r2_score(y,prediction)\n",
    "    print(\"R2 ( on training data): %.2f\" % r2)\n",
    "best_fit = []\n",
    "for i in x:\n",
    "    best_fit.append(slope[0]*i+y_intercept[0])"
   ]
  },
  {
   "cell_type": "code",
   "execution_count": 8,
   "metadata": {},
   "outputs": [],
   "source": [
    "from matplotlib import pyplot as plt\n",
    "%matplotlib inline"
   ]
  },
  {
   "cell_type": "code",
   "execution_count": 9,
   "metadata": {},
   "outputs": [
    {
     "name": "stderr",
     "output_type": "stream",
     "text": [
      "C:\\Users\\hknighton\\AppData\\Local\\Continuum\\anaconda3\\lib\\site-packages\\matplotlib\\figure.py:445: UserWarning: Matplotlib is currently using module://ipykernel.pylab.backend_inline, which is a non-GUI backend, so cannot show the figure.\n",
      "  % get_backend())\n"
     ]
    },
    {
     "data": {
      "image/png": "[encoded data removed]",
      "text/plain": [
       "<Figure size 432x288 with 1 Axes>"
      ]
     },
     "metadata": {
      "needs_background": "light"
     },
     "output_type": "display_data"
    }
   ],
   "source": [
    "fig,ax = plt.subplots()\n",
    "\n",
    "ax.set_title(\"Predictoins VS. TRUE\")\n",
    "ax.set_xlabel(\"Average number of rooms (RM)\")\n",
    "ax.set_ylabel(\"House Price\")\n",
    "\n",
    "ax.scatter(x, y, s=2, label='Data Points')\n",
    "ax.plot(x, np.array(best_fit), '-', lw=2, color=\"#f9a602\", label='Best fit line')\n",
    "ax.legend(loc='upper left')\n",
    "\n",
    "fig.show()\n"
   ]
  },
  {
   "cell_type": "code",
   "execution_count": 10,
   "metadata": {},
   "outputs": [
    {
     "data": {
      "image/png": "[encoded data removed]",
      "text/plain": [
       "<Figure size 432x288 with 1 Axes>"
      ]
     },
     "metadata": {
      "needs_background": "light"
     },
     "output_type": "display_data"
    }
   ],
   "source": [
    "fig,ax = plt.subplots()\n",
    "ax.set_title(\"Loss overtime\")\n",
    "ax.set_xlabel(\"Epochs\")\n",
    "ax.set_ylabel(\"Loss\")\n",
    "ax.plot(loss_vec, 'k-')\n",
    "\n",
    "fig.show()\n",
    "\n"
   ]
  },
  {
   "cell_type": "code",
   "execution_count": null,
   "metadata": {},
   "outputs": [],
   "source": []
  }
 ],
 "metadata": {
  "kernelspec": {
   "display_name": "Python 3",
   "language": "python",
   "name": "python3"
  },
  "language_info": {
   "codemirror_mode": {
    "name": "ipython",
    "version": 3
   },
   "file_extension": ".py",
   "mimetype": "text/x-python",
   "name": "python",
   "nbconvert_exporter": "python",
   "pygments_lexer": "ipython3",
   "version": "3.7.3"
  }
 },
 "nbformat": 4,
 "nbformat_minor": 2
}
